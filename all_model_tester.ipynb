{
 "cells": [
  {
   "cell_type": "code",
   "execution_count": 1,
   "metadata": {
    "collapsed": true
   },
   "outputs": [],
   "source": [
    "#Import non-sklearn packages\n",
    "import numpy as np\n",
    "import time\n",
    "\n",
    "#import sklearn auxillary packages\n",
    "from sklearn.datasets import make_regression\n",
    "from sklearn.metrics import mean_squared_error, r2_score\n",
    "from sklearn.model_selection import cross_val_score, train_test_split\n",
    "from sklearn.preprocessing import StandardScaler\n",
    "\n",
    "#import sklearn regression models\n",
    "from sklearn.linear_model import LinearRegression, Ridge, Lasso, ElasticNet, Lars, OrthogonalMatchingPursuit, BayesianRidge, ARDRegression, SGDRegressor, PassiveAggressiveRegressor, RANSACRegressor, TheilSenRegressor, HuberRegressor\n",
    "from sklearn.tree import DecisionTreeRegressor\n",
    "from sklearn.gaussian_process import GaussianProcessRegressor\n",
    "from sklearn.neural_network import MLPRegressor\n",
    "from sklearn.neighbors import KNeighborsRegressor, RadiusNeighborsRegressor\n",
    "from sklearn.svm import SVR, NuSVR, LinearSVR\n",
    "from sklearn.kernel_ridge import KernelRidge\n",
    "from sklearn.isotonic import IsotonicRegression"
   ]
  },
  {
   "cell_type": "code",
   "execution_count": 2,
   "metadata": {
    "collapsed": true
   },
   "outputs": [],
   "source": [
    "#set the dataset parameters\n",
    "\n",
    "sample_number = 100\n",
    "feature_number = 1\n",
    "test_set_perc = 0.3\n",
    "noise = 0\n",
    "scale = True\n",
    "effective_rank = 1\n",
    "n_informative = 1\n",
    "random_state = 1\n",
    "#shifts output labels into a quadratic structure (rather than linear)\n",
    "make_quadratic = False\n",
    "\n",
    "#print the model coeficients (not all models have this method, \n",
    "#so may have to set to False if certain models are being tested)\n",
    "print_coef = False"
   ]
  },
  {
   "cell_type": "code",
   "execution_count": 3,
   "metadata": {
    "collapsed": true
   },
   "outputs": [],
   "source": [
    "#create a dataset to use for regression problem\n",
    "x, y = make_regression(n_samples=sample_number, n_features=feature_number, noise=noise, n_informative=n_informative, effective_rank=effective_rank, random_state=random_state)\n",
    "\n",
    "if make_quadratic:\n",
    "  y = y**2"
   ]
  },
  {
   "cell_type": "code",
   "execution_count": 4,
   "metadata": {
    "collapsed": true
   },
   "outputs": [],
   "source": [
    "#split dataset into train and test sets\n",
    "train_x, test_x, train_y, test_y = train_test_split(x, y, test_size=test_set_perc)"
   ]
  },
  {
   "cell_type": "code",
   "execution_count": 5,
   "metadata": {},
   "outputs": [
    {
     "name": "stdout",
     "output_type": "stream",
     "text": [
      "Train Set Shapes:\n",
      "(70, 1)\n",
      "(70,)\n",
      "Test Set Shapes:\n",
      "(30, 1)\n",
      "(30,)\n",
      "\n"
     ]
    }
   ],
   "source": [
    "#print the sizes of the train and test sets\n",
    "print('Train Set Shapes:')\n",
    "print(train_x.shape)\n",
    "print(train_y.shape)\n",
    "\n",
    "print('Test Set Shapes:')\n",
    "print(test_x.shape)\n",
    "print(test_y.shape)\n",
    "print('')"
   ]
  },
  {
   "cell_type": "code",
   "execution_count": 6,
   "metadata": {},
   "outputs": [
    {
     "name": "stdout",
     "output_type": "stream",
     "text": [
      "Scaling Data\n",
      "\n",
      "Data Scaled\n",
      "\n"
     ]
    }
   ],
   "source": [
    "# scale the data if desired\n",
    "if scale:\n",
    "    print('Scaling Data')\n",
    "    print('')\n",
    "    scaler = StandardScaler()\n",
    "    scaler.fit(train_x)\n",
    "    train_x = scaler.transform(train_x)\n",
    "    test_x = scaler.transform(test_x)\n",
    "    print('Data Scaled')\n",
    "    print('')"
   ]
  },
  {
   "cell_type": "code",
   "execution_count": 7,
   "metadata": {
    "collapsed": true
   },
   "outputs": [],
   "source": [
    "#Dictionary of all models. All models intialized with no args. Can modify any of them to test various args.\n",
    "#IsotonicRegression does not abide by the same fit() function and thus must be tested seperately\n",
    "models = {'LinearRegression': LinearRegression(),\n",
    "          'Ridge': Ridge(),\n",
    "          'Lasso': Lasso(),\n",
    "          'ElasticNet': ElasticNet(),\n",
    "          'Lars': Lars(),\n",
    "          'OrthogonalMatchingPursuit': OrthogonalMatchingPursuit(),\n",
    "          'BayesianRidge': BayesianRidge(),\n",
    "          'ARDRegression': ARDRegression(),\n",
    "          'SGDRegressor': SGDRegressor(),\n",
    "          'PassiveAggressiveRegressor': PassiveAggressiveRegressor(),\n",
    "          'RANSACRegressor': RANSACRegressor(),\n",
    "          'TheilSenRegressor': TheilSenRegressor(),\n",
    "          'HuberRegressor': HuberRegressor(),\n",
    "          'DecisionTreeRegressor': DecisionTreeRegressor(),\n",
    "          'GaussianProcessRegressor': GaussianProcessRegressor(),\n",
    "          'MLPRegressor': MLPRegressor(),\n",
    "          'KNeighborsRegressor': KNeighborsRegressor(),\n",
    "          'RadiusNeighborsRegressor': RadiusNeighborsRegressor(),\n",
    "          'SVR': SVR(gamma='scale'),\n",
    "          'NuSVR': NuSVR(gamma='scale'),\n",
    "          'LinearSVR': LinearSVR(),\n",
    "          'KernelRidge': KernelRidge()\n",
    "         }"
   ]
  },
  {
   "cell_type": "code",
   "execution_count": 8,
   "metadata": {},
   "outputs": [
    {
     "name": "stdout",
     "output_type": "stream",
     "text": [
      "LinearRegression Train time: 0.00011525154113769531 minutes\n",
      "LinearRegression MSE: 4.630141018834316e-30\n",
      "LinearRegression R2 1.0\n",
      "Accuracy: 1.00 (+/- 0.00)\n",
      "\n",
      "Ridge Train time: 0.00010718504587809245 minutes\n",
      "Ridge MSE: 0.012500554870811257\n",
      "Ridge R2 0.9997597814944618\n",
      "Accuracy: 1.00 (+/- 0.00)\n",
      "\n",
      "Lasso Train time: 6.398359934488932e-05 minutes\n",
      "Lasso MSE: 0.7834089967932735\n",
      "Lasso R2 0.9849455211884787\n",
      "Accuracy: 0.98 (+/- 0.01)\n",
      "\n",
      "ElasticNet Train time: 1.8215179443359376e-05 minutes\n",
      "ElasticNet MSE: 8.650111264942366\n",
      "ElasticNet R2 0.8337740346505871\n",
      "Accuracy: 0.83 (+/- 0.12)\n",
      "\n",
      "Lars Train time: 3.7380059560139974e-05 minutes\n",
      "Lars MSE: 2.0482650144547132e-30\n",
      "Lars R2 1.0\n",
      "Accuracy: 1.00 (+/- 0.00)\n",
      "\n",
      "OrthogonalMatchingPursuit Train time: 2.206563949584961e-05 minutes\n",
      "OrthogonalMatchingPursuit MSE: 2.0482650144547132e-30\n",
      "OrthogonalMatchingPursuit R2 1.0\n",
      "Accuracy: 1.00 (+/- 0.00)\n",
      "\n",
      "BayesianRidge Train time: 0.0004682819048563639 minutes\n",
      "BayesianRidge MSE: 1.6816107798899328e-21\n",
      "BayesianRidge R2 1.0\n",
      "Accuracy: 1.00 (+/- 0.00)\n",
      "\n",
      "ARDRegression Train time: 0.0005175034205118815 minutes\n",
      "ARDRegression MSE: 2.263459738376378e-08\n",
      "ARDRegression R2 0.9999999995650394\n",
      "Accuracy: 1.00 (+/- 0.00)\n",
      "\n",
      "SGDRegressor Train time: 0.00011723836263020834 minutes\n",
      "SGDRegressor MSE: 5.846982020713938\n",
      "SGDRegressor R2 0.8876407249565811\n",
      "Accuracy: 0.79 (+/- 0.07)\n",
      "\n",
      "PassiveAggressiveRegressor Train time: 1.4197826385498046e-05 minutes\n",
      "PassiveAggressiveRegressor MSE: 0.0019988954288458253\n",
      "PassiveAggressiveRegressor R2 0.9999615879712855\n",
      "Accuracy: 1.00 (+/- 0.00)\n",
      "\n",
      "RANSACRegressor Train time: 9.239912033081055e-05 minutes\n",
      "RANSACRegressor MSE: 4.630141018834316e-30\n",
      "RANSACRegressor R2 1.0\n",
      "Accuracy: 1.00 (+/- 0.00)\n",
      "\n"
     ]
    },
    {
     "name": "stderr",
     "output_type": "stream",
     "text": [
      "/Applications/anaconda/lib/python3.6/site-packages/sklearn/linear_model/stochastic_gradient.py:166: FutureWarning: max_iter and tol parameters have been added in SGDRegressor in 0.19. If both are left unset, they default to max_iter=5 and tol=None. If tol is not None, max_iter defaults to max_iter=1000. From 0.21, default max_iter will be 1000, and default tol will be 1e-3.\n",
      "  FutureWarning)\n",
      "/Applications/anaconda/lib/python3.6/site-packages/sklearn/linear_model/stochastic_gradient.py:166: FutureWarning: max_iter and tol parameters have been added in SGDRegressor in 0.19. If both are left unset, they default to max_iter=5 and tol=None. If tol is not None, max_iter defaults to max_iter=1000. From 0.21, default max_iter will be 1000, and default tol will be 1e-3.\n",
      "  FutureWarning)\n",
      "/Applications/anaconda/lib/python3.6/site-packages/sklearn/linear_model/stochastic_gradient.py:166: FutureWarning: max_iter and tol parameters have been added in SGDRegressor in 0.19. If both are left unset, they default to max_iter=5 and tol=None. If tol is not None, max_iter defaults to max_iter=1000. From 0.21, default max_iter will be 1000, and default tol will be 1e-3.\n",
      "  FutureWarning)\n",
      "/Applications/anaconda/lib/python3.6/site-packages/sklearn/linear_model/stochastic_gradient.py:166: FutureWarning: max_iter and tol parameters have been added in SGDRegressor in 0.19. If both are left unset, they default to max_iter=5 and tol=None. If tol is not None, max_iter defaults to max_iter=1000. From 0.21, default max_iter will be 1000, and default tol will be 1e-3.\n",
      "  FutureWarning)\n",
      "/Applications/anaconda/lib/python3.6/site-packages/sklearn/linear_model/stochastic_gradient.py:166: FutureWarning: max_iter and tol parameters have been added in SGDRegressor in 0.19. If both are left unset, they default to max_iter=5 and tol=None. If tol is not None, max_iter defaults to max_iter=1000. From 0.21, default max_iter will be 1000, and default tol will be 1e-3.\n",
      "  FutureWarning)\n",
      "/Applications/anaconda/lib/python3.6/site-packages/sklearn/linear_model/stochastic_gradient.py:166: FutureWarning: max_iter and tol parameters have been added in SGDRegressor in 0.19. If both are left unset, they default to max_iter=5 and tol=None. If tol is not None, max_iter defaults to max_iter=1000. From 0.21, default max_iter will be 1000, and default tol will be 1e-3.\n",
      "  FutureWarning)\n",
      "/Applications/anaconda/lib/python3.6/site-packages/sklearn/linear_model/stochastic_gradient.py:166: FutureWarning: max_iter and tol parameters have been added in PassiveAggressiveRegressor in 0.19. If both are left unset, they default to max_iter=5 and tol=None. If tol is not None, max_iter defaults to max_iter=1000. From 0.21, default max_iter will be 1000, and default tol will be 1e-3.\n",
      "  FutureWarning)\n",
      "/Applications/anaconda/lib/python3.6/site-packages/sklearn/linear_model/stochastic_gradient.py:166: FutureWarning: max_iter and tol parameters have been added in PassiveAggressiveRegressor in 0.19. If both are left unset, they default to max_iter=5 and tol=None. If tol is not None, max_iter defaults to max_iter=1000. From 0.21, default max_iter will be 1000, and default tol will be 1e-3.\n",
      "  FutureWarning)\n",
      "/Applications/anaconda/lib/python3.6/site-packages/sklearn/linear_model/stochastic_gradient.py:166: FutureWarning: max_iter and tol parameters have been added in PassiveAggressiveRegressor in 0.19. If both are left unset, they default to max_iter=5 and tol=None. If tol is not None, max_iter defaults to max_iter=1000. From 0.21, default max_iter will be 1000, and default tol will be 1e-3.\n",
      "  FutureWarning)\n",
      "/Applications/anaconda/lib/python3.6/site-packages/sklearn/linear_model/stochastic_gradient.py:166: FutureWarning: max_iter and tol parameters have been added in PassiveAggressiveRegressor in 0.19. If both are left unset, they default to max_iter=5 and tol=None. If tol is not None, max_iter defaults to max_iter=1000. From 0.21, default max_iter will be 1000, and default tol will be 1e-3.\n",
      "  FutureWarning)\n",
      "/Applications/anaconda/lib/python3.6/site-packages/sklearn/linear_model/stochastic_gradient.py:166: FutureWarning: max_iter and tol parameters have been added in PassiveAggressiveRegressor in 0.19. If both are left unset, they default to max_iter=5 and tol=None. If tol is not None, max_iter defaults to max_iter=1000. From 0.21, default max_iter will be 1000, and default tol will be 1e-3.\n",
      "  FutureWarning)\n",
      "/Applications/anaconda/lib/python3.6/site-packages/sklearn/linear_model/stochastic_gradient.py:166: FutureWarning: max_iter and tol parameters have been added in PassiveAggressiveRegressor in 0.19. If both are left unset, they default to max_iter=5 and tol=None. If tol is not None, max_iter defaults to max_iter=1000. From 0.21, default max_iter will be 1000, and default tol will be 1e-3.\n",
      "  FutureWarning)\n"
     ]
    },
    {
     "name": "stdout",
     "output_type": "stream",
     "text": [
      "TheilSenRegressor Train time: 0.0008198817571004232 minutes\n",
      "TheilSenRegressor MSE: 1.656001875008291e-29\n",
      "TheilSenRegressor R2 1.0\n",
      "Accuracy: 1.00 (+/- 0.00)\n",
      "\n",
      "HuberRegressor Train time: 0.0005645473798116048 minutes\n",
      "HuberRegressor MSE: 5.978687826712552e-24\n",
      "HuberRegressor R2 1.0\n",
      "Accuracy: 1.00 (+/- 0.00)\n",
      "\n",
      "DecisionTreeRegressor Train time: 1.9919872283935546e-05 minutes\n",
      "DecisionTreeRegressor MSE: 0.049699475241572\n",
      "DecisionTreeRegressor R2 0.9990449437011438\n",
      "Accuracy: 0.99 (+/- 0.01)\n",
      "\n",
      "GaussianProcessRegressor Train time: 8.051395416259765e-05 minutes\n",
      "GaussianProcessRegressor MSE: 2.0578106620461604e-08\n",
      "GaussianProcessRegressor R2 0.9999999996045582\n",
      "Accuracy: 1.00 (+/- 0.00)\n",
      "\n"
     ]
    },
    {
     "name": "stderr",
     "output_type": "stream",
     "text": [
      "/Applications/anaconda/lib/python3.6/site-packages/sklearn/neural_network/multilayer_perceptron.py:562: ConvergenceWarning: Stochastic Optimizer: Maximum iterations (200) reached and the optimization hasn't converged yet.\n",
      "  % self.max_iter, ConvergenceWarning)\n",
      "/Applications/anaconda/lib/python3.6/site-packages/sklearn/neural_network/multilayer_perceptron.py:562: ConvergenceWarning: Stochastic Optimizer: Maximum iterations (200) reached and the optimization hasn't converged yet.\n",
      "  % self.max_iter, ConvergenceWarning)\n"
     ]
    },
    {
     "name": "stdout",
     "output_type": "stream",
     "text": [
      "MLPRegressor Train time: 0.0029527028401692707 minutes\n"
     ]
    },
    {
     "name": "stderr",
     "output_type": "stream",
     "text": [
      "/Applications/anaconda/lib/python3.6/site-packages/sklearn/neural_network/multilayer_perceptron.py:562: ConvergenceWarning: Stochastic Optimizer: Maximum iterations (200) reached and the optimization hasn't converged yet.\n",
      "  % self.max_iter, ConvergenceWarning)\n",
      "/Applications/anaconda/lib/python3.6/site-packages/sklearn/neural_network/multilayer_perceptron.py:562: ConvergenceWarning: Stochastic Optimizer: Maximum iterations (200) reached and the optimization hasn't converged yet.\n",
      "  % self.max_iter, ConvergenceWarning)\n",
      "/Applications/anaconda/lib/python3.6/site-packages/sklearn/neural_network/multilayer_perceptron.py:562: ConvergenceWarning: Stochastic Optimizer: Maximum iterations (200) reached and the optimization hasn't converged yet.\n",
      "  % self.max_iter, ConvergenceWarning)\n"
     ]
    },
    {
     "name": "stdout",
     "output_type": "stream",
     "text": [
      "MLPRegressor MSE: 15.655565595782091\n",
      "MLPRegressor R2 0.6991528288431472\n",
      "Accuracy: 0.73 (+/- 0.19)\n",
      "\n",
      "KNeighborsRegressor Train time: 1.3736883799235026e-05 minutes\n",
      "KNeighborsRegressor MSE: 0.973397653068811\n",
      "KNeighborsRegressor R2 0.9812945799661579\n",
      "Accuracy: 0.96 (+/- 0.09)\n",
      "\n",
      "RadiusNeighborsRegressor Train time: 9.878476460774739e-06 minutes\n",
      "RadiusNeighborsRegressor MSE: 4.146911374264704\n",
      "RadiusNeighborsRegressor R2 0.9203103491628666\n",
      "Accuracy: 0.92 (+/- 0.06)\n",
      "\n",
      "SVR Train time: 2.1147727966308594e-05 minutes\n",
      "SVR MSE: 12.270325040467991\n",
      "SVR R2 0.7642057353332257\n",
      "Accuracy: 0.67 (+/- 0.48)\n",
      "\n",
      "NuSVR Train time: 1.7917156219482423e-05 minutes\n",
      "NuSVR MSE: 11.905643502983162\n",
      "NuSVR R2 0.7712136845672668\n",
      "Accuracy: 0.66 (+/- 0.47)\n",
      "\n",
      "LinearSVR Train time: 1.2886524200439452e-05 minutes\n",
      "LinearSVR MSE: 1.078643479971161e-24\n",
      "LinearSVR R2 1.0\n",
      "Accuracy: 1.00 (+/- 0.00)\n",
      "\n",
      "KernelRidge Train time: 3.26991081237793e-05 minutes\n",
      "KernelRidge MSE: 2.372505332988692\n",
      "KernelRidge R2 0.9544084489559103\n",
      "Accuracy: 0.96 (+/- 0.02)\n",
      "\n"
     ]
    },
    {
     "name": "stderr",
     "output_type": "stream",
     "text": [
      "/Applications/anaconda/lib/python3.6/site-packages/sklearn/neural_network/multilayer_perceptron.py:562: ConvergenceWarning: Stochastic Optimizer: Maximum iterations (200) reached and the optimization hasn't converged yet.\n",
      "  % self.max_iter, ConvergenceWarning)\n"
     ]
    }
   ],
   "source": [
    "for key, model in models.items():\n",
    "    begin = time.time()\n",
    "    model.fit(train_x,train_y)\n",
    "    print(key + ' Train time: ' + str((time.time() - begin)/60) + \" minutes\")\n",
    "    preds = model.predict(test_x)\n",
    "    mse = mean_squared_error(test_y,preds)\n",
    "    r2 = r2_score(test_y,preds)\n",
    "    scores = cross_val_score(model, train_x, train_y, cv=5)\n",
    "    print(key + ' MSE: ' + str(mse))\n",
    "    print(key + ' R2 ' + str(r2))\n",
    "    print(\"Accuracy: %0.2f (+/- %0.2f)\" % (scores.mean(), scores.std() * 2))\n",
    "    if print_coef:\n",
    "      print('Coefficients:')\n",
    "      print(model.coef_)\n",
    "    print('')"
   ]
  }
 ],
 "metadata": {
  "kernelspec": {
   "display_name": "Python 3",
   "language": "python",
   "name": "python3"
  },
  "language_info": {
   "codemirror_mode": {
    "name": "ipython",
    "version": 3
   },
   "file_extension": ".py",
   "mimetype": "text/x-python",
   "name": "python",
   "nbconvert_exporter": "python",
   "pygments_lexer": "ipython3",
   "version": "3.6.8"
  }
 },
 "nbformat": 4,
 "nbformat_minor": 2
}
